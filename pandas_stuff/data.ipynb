{
 "cells": [
  {
   "cell_type": "code",
   "execution_count": 28,
   "metadata": {},
   "outputs": [],
   "source": [
    "import pandas as pd\n",
    "\n",
    "df = pd.read_csv(\"../data/sex_work_arrests.csv\")\n",
    "# Combine the age, sex and race columns\n",
    "age = df[\"AGE_GROUP\"]\n",
    "race = df[\"PERP_RACE\"]\n",
    "sex = df[\"PERP_SEX\"]\n",
    "year = df[\"ARREST_YEAR\"]\n",
    "boro = df[\"ARREST_BORO\"]\n",
    "\n",
    "demographics = pd.concat([age, sex, race, year, boro], axis=1)\n",
    "demographics.to_csv('../data/demographics.csv')"
   ]
  },
  {
   "cell_type": "code",
   "execution_count": 27,
   "metadata": {},
   "outputs": [
    {
     "name": "stdout",
     "output_type": "stream",
     "text": [
      "ARREST_YEAR\n",
      "2006              WHITE HISPANIC\n",
      "2007              WHITE HISPANIC\n",
      "2008                       BLACK\n",
      "2009                       BLACK\n",
      "2010                       BLACK\n",
      "2011                       BLACK\n",
      "2012                       BLACK\n",
      "2013                       BLACK\n",
      "2014                       BLACK\n",
      "2015                       BLACK\n",
      "2016                       BLACK\n",
      "2017                       BLACK\n",
      "2018                       BLACK\n",
      "2019                       BLACK\n",
      "2020              WHITE HISPANIC\n",
      "2021    ASIAN / PACIFIC ISLANDER\n",
      "2022    ASIAN / PACIFIC ISLANDER\n",
      "2023    ASIAN / PACIFIC ISLANDER\n",
      "2024    ASIAN / PACIFIC ISLANDER\n",
      "Name: PERP_RACE, dtype: object\n"
     ]
    }
   ],
   "source": [
    "most_common_race_by_year = demographics.groupby(['ARREST_YEAR'])['PERP_RACE'].apply(lambda x: x.value_counts().idxmax())\n",
    "print(most_common_race_by_year)\n"
   ]
  },
  {
   "cell_type": "code",
   "execution_count": null,
   "metadata": {},
   "outputs": [],
   "source": []
  }
 ],
 "metadata": {
  "kernelspec": {
   "display_name": "Python 3",
   "language": "python",
   "name": "python3"
  },
  "language_info": {
   "codemirror_mode": {
    "name": "ipython",
    "version": 3
   },
   "file_extension": ".py",
   "mimetype": "text/x-python",
   "name": "python",
   "nbconvert_exporter": "python",
   "pygments_lexer": "ipython3",
   "version": "3.11.7"
  }
 },
 "nbformat": 4,
 "nbformat_minor": 2
}
