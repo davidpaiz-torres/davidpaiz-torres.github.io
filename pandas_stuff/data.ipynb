{
 "cells": [
  {
   "cell_type": "code",
   "execution_count": 89,
   "metadata": {},
   "outputs": [],
   "source": [
    "import pandas as pd\n",
    "\n",
    "df = pd.read_csv(\"../data/sex_work_arrests.csv\")\n",
    "# Combine the age, sex and race columns\n",
    "age = df[\"AGE_GROUP\"]\n",
    "race = df[\"PERP_RACE\"]\n",
    "sex = df[\"PERP_SEX\"]\n",
    "year = df[\"ARREST_YEAR\"]\n",
    "boro = df[\"ARREST_BORO\"]\n",
    "charge = df[\"PD_DESC\"]\n",
    "pl = df[\"LAW_CODE\"]\n",
    "\n",
    "\n",
    "demographics = pd.concat([age, sex, race, year, charge], axis=1)\n",
    "# demographics.to_csv('../data/demographics.csv')"
   ]
  },
  {
   "cell_type": "code",
   "execution_count": 90,
   "metadata": {},
   "outputs": [],
   "source": [
    "# most_common_race_by_year = demographics.groupby(['ARREST_YEAR'])['PERP_RACE'].apply(lambda x: x.value_counts().idxmax())\n",
    "# print(most_common_race_by_year)\n",
    "\n",
    "\n"
   ]
  },
  {
   "cell_type": "code",
   "execution_count": 91,
   "metadata": {},
   "outputs": [
    {
     "name": "stdout",
     "output_type": "stream",
     "text": [
      "Number of rows: 38291\n"
     ]
    }
   ],
   "source": [
    "demographics\n",
    "num_rows = demographics.shape[0]\n",
    "print(\"Number of rows:\", num_rows)\n"
   ]
  },
  {
   "cell_type": "code",
   "execution_count": 92,
   "metadata": {},
   "outputs": [],
   "source": [
    "demographics = demographics[df['PD_DESC'] == 'PROSTITUTION'] \n",
    "demographics.to_csv('../data/demographics.csv')"
   ]
  },
  {
   "cell_type": "code",
   "execution_count": 93,
   "metadata": {},
   "outputs": [
    {
     "data": {
      "text/html": [
       "<div>\n",
       "<style scoped>\n",
       "    .dataframe tbody tr th:only-of-type {\n",
       "        vertical-align: middle;\n",
       "    }\n",
       "\n",
       "    .dataframe tbody tr th {\n",
       "        vertical-align: top;\n",
       "    }\n",
       "\n",
       "    .dataframe thead th {\n",
       "        text-align: right;\n",
       "    }\n",
       "</style>\n",
       "<table border=\"1\" class=\"dataframe\">\n",
       "  <thead>\n",
       "    <tr style=\"text-align: right;\">\n",
       "      <th></th>\n",
       "      <th>AGE_GROUP</th>\n",
       "      <th>PERP_SEX</th>\n",
       "      <th>PERP_RACE</th>\n",
       "      <th>ARREST_YEAR</th>\n",
       "      <th>PD_DESC</th>\n",
       "    </tr>\n",
       "  </thead>\n",
       "  <tbody>\n",
       "    <tr>\n",
       "      <th>4</th>\n",
       "      <td>18-24</td>\n",
       "      <td>F</td>\n",
       "      <td>WHITE HISPANIC</td>\n",
       "      <td>2024</td>\n",
       "      <td>PROSTITUTION</td>\n",
       "    </tr>\n",
       "    <tr>\n",
       "      <th>9</th>\n",
       "      <td>25-44</td>\n",
       "      <td>F</td>\n",
       "      <td>WHITE HISPANIC</td>\n",
       "      <td>2024</td>\n",
       "      <td>PROSTITUTION</td>\n",
       "    </tr>\n",
       "    <tr>\n",
       "      <th>10</th>\n",
       "      <td>65+</td>\n",
       "      <td>F</td>\n",
       "      <td>ASIAN / PACIFIC ISLANDER</td>\n",
       "      <td>2024</td>\n",
       "      <td>PROSTITUTION</td>\n",
       "    </tr>\n",
       "    <tr>\n",
       "      <th>20</th>\n",
       "      <td>45-64</td>\n",
       "      <td>F</td>\n",
       "      <td>ASIAN / PACIFIC ISLANDER</td>\n",
       "      <td>2024</td>\n",
       "      <td>PROSTITUTION</td>\n",
       "    </tr>\n",
       "    <tr>\n",
       "      <th>21</th>\n",
       "      <td>25-44</td>\n",
       "      <td>F</td>\n",
       "      <td>WHITE HISPANIC</td>\n",
       "      <td>2024</td>\n",
       "      <td>PROSTITUTION</td>\n",
       "    </tr>\n",
       "    <tr>\n",
       "      <th>...</th>\n",
       "      <td>...</td>\n",
       "      <td>...</td>\n",
       "      <td>...</td>\n",
       "      <td>...</td>\n",
       "      <td>...</td>\n",
       "    </tr>\n",
       "    <tr>\n",
       "      <th>38284</th>\n",
       "      <td>25-44</td>\n",
       "      <td>F</td>\n",
       "      <td>WHITE HISPANIC</td>\n",
       "      <td>2006</td>\n",
       "      <td>PROSTITUTION</td>\n",
       "    </tr>\n",
       "    <tr>\n",
       "      <th>38286</th>\n",
       "      <td>18-24</td>\n",
       "      <td>F</td>\n",
       "      <td>ASIAN / PACIFIC ISLANDER</td>\n",
       "      <td>2006</td>\n",
       "      <td>PROSTITUTION</td>\n",
       "    </tr>\n",
       "    <tr>\n",
       "      <th>38288</th>\n",
       "      <td>45-64</td>\n",
       "      <td>F</td>\n",
       "      <td>ASIAN / PACIFIC ISLANDER</td>\n",
       "      <td>2006</td>\n",
       "      <td>PROSTITUTION</td>\n",
       "    </tr>\n",
       "    <tr>\n",
       "      <th>38289</th>\n",
       "      <td>18-24</td>\n",
       "      <td>F</td>\n",
       "      <td>WHITE HISPANIC</td>\n",
       "      <td>2006</td>\n",
       "      <td>PROSTITUTION</td>\n",
       "    </tr>\n",
       "    <tr>\n",
       "      <th>38290</th>\n",
       "      <td>18-24</td>\n",
       "      <td>F</td>\n",
       "      <td>WHITE</td>\n",
       "      <td>2006</td>\n",
       "      <td>PROSTITUTION</td>\n",
       "    </tr>\n",
       "  </tbody>\n",
       "</table>\n",
       "<p>21024 rows × 5 columns</p>\n",
       "</div>"
      ],
      "text/plain": [
       "      AGE_GROUP PERP_SEX                 PERP_RACE  ARREST_YEAR       PD_DESC\n",
       "4         18-24        F            WHITE HISPANIC         2024  PROSTITUTION\n",
       "9         25-44        F            WHITE HISPANIC         2024  PROSTITUTION\n",
       "10          65+        F  ASIAN / PACIFIC ISLANDER         2024  PROSTITUTION\n",
       "20        45-64        F  ASIAN / PACIFIC ISLANDER         2024  PROSTITUTION\n",
       "21        25-44        F            WHITE HISPANIC         2024  PROSTITUTION\n",
       "...         ...      ...                       ...          ...           ...\n",
       "38284     25-44        F            WHITE HISPANIC         2006  PROSTITUTION\n",
       "38286     18-24        F  ASIAN / PACIFIC ISLANDER         2006  PROSTITUTION\n",
       "38288     45-64        F  ASIAN / PACIFIC ISLANDER         2006  PROSTITUTION\n",
       "38289     18-24        F            WHITE HISPANIC         2006  PROSTITUTION\n",
       "38290     18-24        F                     WHITE         2006  PROSTITUTION\n",
       "\n",
       "[21024 rows x 5 columns]"
      ]
     },
     "execution_count": 93,
     "metadata": {},
     "output_type": "execute_result"
    }
   ],
   "source": [
    "demographics\n",
    "\n"
   ]
  },
  {
   "cell_type": "code",
   "execution_count": 94,
   "metadata": {},
   "outputs": [
    {
     "name": "stdout",
     "output_type": "stream",
     "text": [
      "PD_DESC\n",
      "PROSTITUTION, PATRONIZING 4, 3    15516\n",
      "Name: count, dtype: int64\n"
     ]
    }
   ],
   "source": [
    "counts = df['PD_DESC'].value_counts()\n",
    "print(counts[['PROSTITUTION, PATRONIZING 4, 3']])\n"
   ]
  },
  {
   "cell_type": "code",
   "execution_count": 95,
   "metadata": {},
   "outputs": [
    {
     "name": "stdout",
     "output_type": "stream",
     "text": [
      "PD_DESC\n",
      "PROSTITUTION                         21024\n",
      "PROSTITUTION, PATRONIZING 4, 3       15516\n",
      "PROSTITUTION 3,PROMOTING BUSINESS     1059\n",
      "Name: count, dtype: int64\n"
     ]
    }
   ],
   "source": [
    "top_3_counts = df['PD_DESC'].value_counts().head(3)\n",
    "print(top_3_counts)\n"
   ]
  },
  {
   "cell_type": "code",
   "execution_count": 116,
   "metadata": {},
   "outputs": [
    {
     "name": "stdout",
     "output_type": "stream",
     "text": [
      "    ARREST_YEAR                 PERP_RACE\n",
      "0          2006                     BLACK\n",
      "1          2007            WHITE HISPANIC\n",
      "2          2008                     BLACK\n",
      "3          2009                     BLACK\n",
      "4          2010                     BLACK\n",
      "5          2011                     BLACK\n",
      "6          2012                     BLACK\n",
      "7          2013                     BLACK\n",
      "8          2014                     BLACK\n",
      "9          2015                     BLACK\n",
      "10         2016                     BLACK\n",
      "11         2017                     BLACK\n",
      "12         2018                     BLACK\n",
      "13         2019  ASIAN / PACIFIC ISLANDER\n",
      "14         2020  ASIAN / PACIFIC ISLANDER\n",
      "15         2021  ASIAN / PACIFIC ISLANDER\n",
      "16         2022  ASIAN / PACIFIC ISLANDER\n",
      "17         2023  ASIAN / PACIFIC ISLANDER\n",
      "18         2024  ASIAN / PACIFIC ISLANDER\n"
     ]
    }
   ],
   "source": [
    "most_common_race_by_year_df = demographics.groupby(['ARREST_YEAR'])['PERP_RACE'].apply(lambda x: x.value_counts().idxmax()).reset_index() \n",
    "#rest_index makes sure that \"most_common_race is added as a row/column\"\n",
    "print(most_common_race_by_year_df)\n"
   ]
  },
  {
   "cell_type": "code",
   "execution_count": null,
   "metadata": {},
   "outputs": [],
   "source": []
  }
 ],
 "metadata": {
  "kernelspec": {
   "display_name": "Python 3",
   "language": "python",
   "name": "python3"
  },
  "language_info": {
   "codemirror_mode": {
    "name": "ipython",
    "version": 3
   },
   "file_extension": ".py",
   "mimetype": "text/x-python",
   "name": "python",
   "nbconvert_exporter": "python",
   "pygments_lexer": "ipython3",
   "version": "3.11.7"
  }
 },
 "nbformat": 4,
 "nbformat_minor": 2
}
